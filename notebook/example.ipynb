{
 "cells": [
  {
   "cell_type": "code",
   "execution_count": 1,
   "metadata": {},
   "outputs": [],
   "source": [
    "import housing"
   ]
  },
  {
   "cell_type": "code",
   "execution_count": 5,
   "metadata": {},
   "outputs": [],
   "source": [
    "import os\n",
    "ROOT_DIR = os.getcwd() "
   ]
  },
  {
   "cell_type": "code",
   "execution_count": 6,
   "metadata": {},
   "outputs": [
    {
     "data": {
      "text/plain": [
       "'/Users/rasikagulhane/Desktop/Housing/notebook'"
      ]
     },
     "execution_count": 6,
     "metadata": {},
     "output_type": "execute_result"
    }
   ],
   "source": [
    "ROOT_DIR "
   ]
  },
  {
   "cell_type": "code",
   "execution_count": null,
   "metadata": {},
   "outputs": [],
   "source": [
    "from datetime import datetime"
   ]
  },
  {
   "cell_type": "code",
   "execution_count": 1,
   "metadata": {},
   "outputs": [
    {
     "name": "stdout",
     "output_type": "stream",
     "text": [
      "['/Users/rasikagulhane/Desktop/Housing/notebook', '/Users/rasikagulhane/Desktop/Housing/venv_housing/lib/python311.zip', '/Users/rasikagulhane/Desktop/Housing/venv_housing/lib/python3.11', '/Users/rasikagulhane/Desktop/Housing/venv_housing/lib/python3.11/lib-dynload', '', '/Users/rasikagulhane/Desktop/Housing/venv_housing/lib/python3.11/site-packages']\n"
     ]
    }
   ],
   "source": [
    "import sys\n",
    "print(sys.path)"
   ]
  },
  {
   "cell_type": "code",
   "execution_count": 11,
   "metadata": {},
   "outputs": [],
   "source": [
    "sys.path.append('/Users/rasikagulhane/Desktop/Housing/housing')"
   ]
  },
  {
   "cell_type": "markdown",
   "metadata": {},
   "source": []
  },
  {
   "cell_type": "code",
   "execution_count": 12,
   "metadata": {},
   "outputs": [],
   "source": [
    "from entity import *"
   ]
  },
  {
   "cell_type": "code",
   "execution_count": 9,
   "metadata": {},
   "outputs": [],
   "source": [
    "sys.path.append(\"/Users/rasikagulhane/Desktop/Housing/housing/config/\")\n"
   ]
  },
  {
   "cell_type": "code",
   "execution_count": null,
   "metadata": {},
   "outputs": [],
   "source": []
  },
  {
   "cell_type": "code",
   "execution_count": 14,
   "metadata": {},
   "outputs": [
    {
     "name": "stdout",
     "output_type": "stream",
     "text": [
      "/Users/rasikagulhane/Desktop/Housing/notebook/config/config.yaml\n"
     ]
    }
   ],
   "source": [
    "from config.configuration import Configuration"
   ]
  },
  {
   "cell_type": "code",
   "execution_count": 16,
   "metadata": {},
   "outputs": [],
   "source": [
    "config= Configuration(config_file_path=r\"/Users/rasikagulhane/Desktop/Housing/config/config.yaml\")"
   ]
  },
  {
   "cell_type": "code",
   "execution_count": 17,
   "metadata": {},
   "outputs": [],
   "source": [
    "training_pipeline_config=config.get_training_pipeline_config()"
   ]
  },
  {
   "cell_type": "code",
   "execution_count": 18,
   "metadata": {},
   "outputs": [],
   "source": [
    "artifact_dir= training_pipeline_config.artifact_dir"
   ]
  },
  {
   "cell_type": "code",
   "execution_count": 19,
   "metadata": {},
   "outputs": [
    {
     "data": {
      "text/plain": [
       "'/Users/rasikagulhane/Desktop/Housing/notebook/housing/artifact'"
      ]
     },
     "execution_count": 19,
     "metadata": {},
     "output_type": "execute_result"
    }
   ],
   "source": [
    "artifact_dir"
   ]
  },
  {
   "cell_type": "code",
   "execution_count": 20,
   "metadata": {},
   "outputs": [],
   "source": [
    "from constant import *"
   ]
  },
  {
   "cell_type": "code",
   "execution_count": null,
   "metadata": {},
   "outputs": [],
   "source": []
  },
  {
   "cell_type": "code",
   "execution_count": 21,
   "metadata": {},
   "outputs": [],
   "source": [
    "data_ingestion_info = config.config_info[DATA_INGESTION_CONFIG_KEY]"
   ]
  },
  {
   "cell_type": "code",
   "execution_count": 22,
   "metadata": {},
   "outputs": [
    {
     "data": {
      "text/plain": [
       "'https://raw.githubusercontent.com/ageron/handson-ml/master/datasets/housing/housing.tgz'"
      ]
     },
     "execution_count": 22,
     "metadata": {},
     "output_type": "execute_result"
    }
   ],
   "source": [
    "data_ingestion_info[DATA_INGESTION_DOWNLOAD_URL_KEY]"
   ]
  },
  {
   "cell_type": "code",
   "execution_count": 23,
   "metadata": {},
   "outputs": [],
   "source": [
    "data_ingestion_config = config.get_data_ingestion_config()"
   ]
  },
  {
   "cell_type": "code",
   "execution_count": 24,
   "metadata": {},
   "outputs": [
    {
     "data": {
      "text/plain": [
       "DataIntegrationConfig(dataset_download_url=('https://raw.githubusercontent.com/ageron/handson-ml/master/datasets/housing/housing.tgz',), tgz_download_dir='/Users/rasikagulhane/Desktop/Housing/notebook/housing/artifact/data_ingestion/2023-04-06_20-52-05/tgz_data', raw_data_dir='/Users/rasikagulhane/Desktop/Housing/notebook/housing/artifact/data_ingestion/2023-04-06_20-52-05/raw_data', ingested_train_dir='/Users/rasikagulhane/Desktop/Housing/notebook/housing/artifact/data_ingestion/2023-04-06_20-52-05/ingested_data/train', ingested_test_dir='/Users/rasikagulhane/Desktop/Housing/notebook/housing/artifact/data_ingestion/2023-04-06_20-52-05/ingested_data/test')"
      ]
     },
     "execution_count": 24,
     "metadata": {},
     "output_type": "execute_result"
    }
   ],
   "source": [
    "data_ingestion_config"
   ]
  },
  {
   "cell_type": "code",
   "execution_count": 25,
   "metadata": {},
   "outputs": [],
   "source": [
    "data_validation_config = config.get_data_validation_config()"
   ]
  },
  {
   "cell_type": "code",
   "execution_count": 26,
   "metadata": {},
   "outputs": [
    {
     "data": {
      "text/plain": [
       "DataValidationConfig(schema_file_path='/Users/rasikagulhane/Desktop/Housing/notebook/housing/artifact/data_validation/2023-04-06_20-52-05/config/schema.yaml', report_file_path='/Users/rasikagulhane/Desktop/Housing/notebook/housing/artifact/data_validation/2023-04-06_20-52-05/report.json', report_page_file_path='/Users/rasikagulhane/Desktop/Housing/notebook/housing/artifact/data_validation/2023-04-06_20-52-05/report.html')"
      ]
     },
     "execution_count": 26,
     "metadata": {},
     "output_type": "execute_result"
    }
   ],
   "source": [
    "data_validation_config"
   ]
  },
  {
   "cell_type": "code",
   "execution_count": 27,
   "metadata": {},
   "outputs": [],
   "source": [
    "data_transformation_config = config.get_data_transformation_config()"
   ]
  },
  {
   "cell_type": "code",
   "execution_count": 28,
   "metadata": {},
   "outputs": [
    {
     "data": {
      "text/plain": [
       "DataTransformationConfig(add_bedroom_per_room=True, transformed_train_dir='/Users/rasikagulhane/Desktop/Housing/notebook/housing/artifact/data_transformation/2023-04-06_20-52-05/transformed_data/train', transformed_test_dir='/Users/rasikagulhane/Desktop/Housing/notebook/housing/artifact/data_transformation/2023-04-06_20-52-05/transformed_data/test', preprocessed_object_file_path='/Users/rasikagulhane/Desktop/Housing/notebook/housing/artifact/data_transformation/2023-04-06_20-52-05/preprocessed/preprocessed.pkl')"
      ]
     },
     "execution_count": 28,
     "metadata": {},
     "output_type": "execute_result"
    }
   ],
   "source": [
    "data_transformation_config"
   ]
  },
  {
   "cell_type": "code",
   "execution_count": 29,
   "metadata": {},
   "outputs": [],
   "source": [
    "data_trainer_config = config.get_model_trainer_config()"
   ]
  },
  {
   "cell_type": "code",
   "execution_count": 30,
   "metadata": {},
   "outputs": [
    {
     "data": {
      "text/plain": [
       "ModelTrainerConfig(trained_model_file_path='/Users/rasikagulhane/Desktop/Housing/notebook/housing/artifact/model_trainer/2023-04-06_20-52-05/trained_model/model.pkl', base_accuracy=0.6, model_config_file_path='config/model.yaml')"
      ]
     },
     "execution_count": 30,
     "metadata": {},
     "output_type": "execute_result"
    }
   ],
   "source": [
    "data_trainer_config"
   ]
  },
  {
   "cell_type": "code",
   "execution_count": 31,
   "metadata": {},
   "outputs": [],
   "source": [
    "data_evaluation_config = config.get_madel_evaluation_config()"
   ]
  },
  {
   "cell_type": "code",
   "execution_count": 32,
   "metadata": {},
   "outputs": [
    {
     "data": {
      "text/plain": [
       "ModelEvaluationConfig(model_evaluation_file_path='/Users/rasikagulhane/Desktop/Housing/notebook/housing/artifact/model_evaluation/model_evaluation.yaml', time_stamp='2023-04-06_20-52-05')"
      ]
     },
     "execution_count": 32,
     "metadata": {},
     "output_type": "execute_result"
    }
   ],
   "source": [
    "data_evaluation_config\n"
   ]
  },
  {
   "cell_type": "code",
   "execution_count": 33,
   "metadata": {},
   "outputs": [],
   "source": [
    "data_pusher_config = config.get_model_pusher_config()"
   ]
  },
  {
   "cell_type": "code",
   "execution_count": 34,
   "metadata": {},
   "outputs": [
    {
     "data": {
      "text/plain": [
       "ModelPusherConfig(export_dir_path='/Users/rasikagulhane/Desktop/Housing/notebook/saved_models/20230406205429')"
      ]
     },
     "execution_count": 34,
     "metadata": {},
     "output_type": "execute_result"
    }
   ],
   "source": [
    "data_pusher_config"
   ]
  },
  {
   "cell_type": "code",
   "execution_count": null,
   "metadata": {},
   "outputs": [],
   "source": []
  }
 ],
 "metadata": {
  "kernelspec": {
   "display_name": "Python 3",
   "language": "python",
   "name": "python3"
  },
  "language_info": {
   "codemirror_mode": {
    "name": "ipython",
    "version": 3
   },
   "file_extension": ".py",
   "mimetype": "text/x-python",
   "name": "python",
   "nbconvert_exporter": "python",
   "pygments_lexer": "ipython3",
   "version": "3.11.2"
  },
  "orig_nbformat": 4
 },
 "nbformat": 4,
 "nbformat_minor": 2
}
